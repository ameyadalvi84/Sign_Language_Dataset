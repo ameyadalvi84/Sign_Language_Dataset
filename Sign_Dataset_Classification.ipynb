{
  "nbformat": 4,
  "nbformat_minor": 0,
  "metadata": {
    "colab": {
      "name": "Sign_Dataset_Classification.ipynb",
      "provenance": [],
      "collapsed_sections": [],
      "authorship_tag": "ABX9TyMjPLilHWrjGCcVKEAKQJFq",
      "include_colab_link": true
    },
    "kernelspec": {
      "name": "python3",
      "display_name": "Python 3"
    },
    "accelerator": "GPU"
  },
  "cells": [
    {
      "cell_type": "markdown",
      "metadata": {
        "id": "view-in-github",
        "colab_type": "text"
      },
      "source": [
        "<a href=\"https://colab.research.google.com/github/ameyadalvi84/Sign_Language_Dataset/blob/master/Sign_Dataset_Classification.ipynb\" target=\"_parent\"><img src=\"https://colab.research.google.com/assets/colab-badge.svg\" alt=\"Open In Colab\"/></a>"
      ]
    },
    {
      "cell_type": "code",
      "metadata": {
        "id": "_6gBGvb6_ZYc",
        "colab_type": "code",
        "colab": {}
      },
      "source": [
        "import pandas as pd\n",
        "import numpy as np\n",
        "import tensorflow as tf\n",
        "import tensorflow.keras.layers as layers\n",
        "import tensorflow.keras.models as models\n",
        "import matplotlib.pyplot as plt\n",
        "\n",
        "%matplotlib inline\n"
      ],
      "execution_count": 26,
      "outputs": []
    },
    {
      "cell_type": "code",
      "metadata": {
        "id": "h_pRHajcA93L",
        "colab_type": "code",
        "colab": {}
      },
      "source": [
        "train_data = pd.read_csv(\"/tmp/sign_mnist_train.csv\",delimiter=',')\n",
        "test_data = pd.read_csv(\"/tmp/sign_mnist_test.csv\",delimiter=',')\n",
        "#train_data.head(5)"
      ],
      "execution_count": 27,
      "outputs": []
    },
    {
      "cell_type": "code",
      "metadata": {
        "id": "YzZlliHXCKCW",
        "colab_type": "code",
        "colab": {}
      },
      "source": [
        "trainlabels = train_data['label']\n",
        "trainimages = train_data.drop('label',axis=1)\n",
        "testimages = test_data.drop('label',axis=1)\n",
        "testlabels = test_data['label']  \n",
        "#trainimages.head(5)"
      ],
      "execution_count": 28,
      "outputs": []
    },
    {
      "cell_type": "code",
      "metadata": {
        "id": "FRl_9W-oCdYU",
        "colab_type": "code",
        "colab": {
          "base_uri": "https://localhost:8080/",
          "height": 90
        },
        "outputId": "6828f027-dc61-4ba7-cfa7-dda16bc21c33"
      },
      "source": [
        "print(len(trainlabels))\n",
        "print(len(trainimages))\n",
        "print(len(testlabels))\n",
        "print(len(testimages))"
      ],
      "execution_count": 29,
      "outputs": [
        {
          "output_type": "stream",
          "text": [
            "27455\n",
            "27455\n",
            "7172\n",
            "7172\n"
          ],
          "name": "stdout"
        }
      ]
    },
    {
      "cell_type": "code",
      "metadata": {
        "id": "WeoQyVHiDZs6",
        "colab_type": "code",
        "colab": {}
      },
      "source": [
        "train_images = np.array(trainimages).reshape((len(trainimages),28,28))\n",
        "train_labels = np.array(trainlabels).reshape((len(trainlabels),1))\n",
        "test_images = np.array(testimages).reshape((len(testimages),28,28))\n",
        "test_labels = np.array(testlabels).reshape((len(testlabels),1))\n",
        "\n",
        "train_images = train_images.astype('float32') / 255.0\n",
        "test_images = test_images.astype('float32') / 255.0\n",
        "\n",
        "#train_images[1]"
      ],
      "execution_count": 30,
      "outputs": []
    },
    {
      "cell_type": "code",
      "metadata": {
        "id": "et1JYrZxEyIL",
        "colab_type": "code",
        "colab": {
          "base_uri": "https://localhost:8080/",
          "height": 338
        },
        "outputId": "926e3f83-b6ef-4990-9346-d45f225e594e"
      },
      "source": [
        "import random\n",
        "random.seed(1234)\n",
        "indx = np.random.randint(0,len(trainimages)+1)\n",
        "plt.imshow(train_images[indx],cmap = plt.cm.binary)\n",
        "plt.title(train_labels[indx])\n",
        "plt.show()"
      ],
      "execution_count": 31,
      "outputs": [
        {
          "output_type": "stream",
          "text": [
            "/usr/local/lib/python3.6/dist-packages/matplotlib/text.py:1165: FutureWarning: elementwise comparison failed; returning scalar instead, but in the future will perform elementwise comparison\n",
            "  if s != self._text:\n"
          ],
          "name": "stderr"
        },
        {
          "output_type": "display_data",
          "data": {
            "image/png": "[encoded data removed]",
            "text/plain": [
              "<Figure size 432x288 with 1 Axes>"
            ]
          },
          "metadata": {
            "tags": [],
            "needs_background": "light"
          }
        }
      ]
    },
    {
      "cell_type": "code",
      "metadata": {
        "id": "0-PjtbQoH9HU",
        "colab_type": "code",
        "colab": {
          "base_uri": "https://localhost:8080/",
          "height": 90
        },
        "outputId": "1ac51613-8488-44bf-cdd7-6bd390849d13"
      },
      "source": [
        "train_label_cat = tf.keras.utils.to_categorical(train_labels)\n",
        "test_label_cat = tf.keras.utils.to_categorical(test_labels)\n",
        "#train_images = np.expand_dims(train_images,axis=3)\n",
        "#test_images = np.expand_dims(test_images, axis=3)\n",
        "print(train_images.shape)\n",
        "print(test_images.shape)\n",
        "print(test_labels.shape)\n",
        "print(train_labels.shape)\n",
        "val_images = train_images[:2000]\n",
        "val_labels = train_label_cat[:2000]\n",
        "patrial_train_images = train_images[2000:]\n",
        "partial_train_labels = train_label_cat[2000:]"
      ],
      "execution_count": 35,
      "outputs": [
        {
          "output_type": "stream",
          "text": [
            "(27455, 28, 28, 1)\n",
            "(7172, 28, 28, 1)\n",
            "(7172, 1)\n",
            "(27455, 1)\n"
          ],
          "name": "stdout"
        }
      ]
    },
    {
      "cell_type": "code",
      "metadata": {
        "id": "z3fJjL_srBjF",
        "colab_type": "code",
        "colab": {}
      },
      "source": [
        "#tf.keras.optimizers.SGD(\n",
        "#    learning_rate=0.01, momentum=0.0, nesterov=False, name=\"SGD\", **kwargs\n",
        "#)\n",
        "\n",
        "learning_rate = 0.1\n",
        "lr_drop = 3\n",
        "lr_decay = 1e-6\n",
        "def lr_schdl(epoch):\n",
        "  return learning_rate * (0.5 ** (epoch // lr_drop))\n",
        "\n",
        "reduce_lr = tf.keras.callbacks.LearningRateScheduler(lr_schdl)\n",
        "\n",
        "model = models.Sequential([\n",
        "                           layers.Conv2D(32,(3,3),padding='same',activation='relu',input_shape=(28,28,1)),\n",
        "                           layers.BatchNormalization(),\n",
        "                           layers.MaxPooling2D(),\n",
        "                           layers.Conv2D(64,(3,3),padding='same',activation='relu'),\n",
        "                           layers.BatchNormalization(),\n",
        "                           \n",
        "                           layers.MaxPooling2D(),\n",
        "                           layers.Conv2D(128,(3,3),padding='same',activation='relu'),\n",
        "                           layers.BatchNormalization(),\n",
        "                           \n",
        "                           layers.MaxPooling2D(),\n",
        "                           layers.Conv2D(256,(3,3),padding='same',activation='relu'),\n",
        "                           layers.BatchNormalization(),\n",
        "                           \n",
        "                           layers.MaxPooling2D(),\n",
        "                           layers.Flatten(),\n",
        "                           layers.Dense(512,activation='relu'),\n",
        "                           layers.Dense(25,activation='sigmoid')\n",
        "])\n",
        "\n",
        "model.compile(optimizer=tf.keras.optimizers.SGD(lr=learning_rate, decay=lr_decay, momentum=0.9, nesterov=True)\n",
        ",loss='categorical_crossentropy',metrics=['accuracy'])"
      ],
      "execution_count": 45,
      "outputs": []
    },
    {
      "cell_type": "code",
      "metadata": {
        "id": "Z_2JVuORwwzK",
        "colab_type": "code",
        "colab": {}
      },
      "source": [
        "model.summary()"
      ],
      "execution_count": null,
      "outputs": []
    },
    {
      "cell_type": "code",
      "metadata": {
        "id": "EqXKtUZ2sRAB",
        "colab_type": "code",
        "colab": {
          "base_uri": "https://localhost:8080/",
          "height": 772
        },
        "outputId": "57e78d0b-6d96-4991-f3de-5fcc2daf0cb3"
      },
      "source": [
        "history = model.fit(patrial_train_images,\n",
        "                    partial_train_labels,\n",
        "                    batch_size = 32,\n",
        "                    epochs = 20,\n",
        "                    validation_data = (val_images,val_labels),\n",
        "                    #validation_steps = 32,\n",
        "                    callbacks = [reduce_lr])"
      ],
      "execution_count": 46,
      "outputs": [
        {
          "output_type": "stream",
          "text": [
            "Epoch 1/20\n",
            "796/796 [==============================] - 4s 5ms/step - loss: 1.5792 - accuracy: 0.4700 - val_loss: 0.6832 - val_accuracy: 0.8430 - lr: 0.1000\n",
            "Epoch 2/20\n",
            "796/796 [==============================] - 3s 4ms/step - loss: 0.1881 - accuracy: 0.9289 - val_loss: 0.2472 - val_accuracy: 0.9100 - lr: 0.1000\n",
            "Epoch 3/20\n",
            "796/796 [==============================] - 3s 4ms/step - loss: 0.1426 - accuracy: 0.9526 - val_loss: 0.1629 - val_accuracy: 0.9390 - lr: 0.1000\n",
            "Epoch 4/20\n",
            "796/796 [==============================] - 3s 4ms/step - loss: 0.0498 - accuracy: 0.9796 - val_loss: 0.0541 - val_accuracy: 0.9780 - lr: 0.0500\n",
            "Epoch 5/20\n",
            "796/796 [==============================] - 3s 4ms/step - loss: 0.0397 - accuracy: 0.9900 - val_loss: 0.0368 - val_accuracy: 0.9955 - lr: 0.0500\n",
            "Epoch 6/20\n",
            "796/796 [==============================] - 3s 4ms/step - loss: 0.0331 - accuracy: 0.9968 - val_loss: 0.0356 - val_accuracy: 0.9965 - lr: 0.0500\n",
            "Epoch 7/20\n",
            "796/796 [==============================] - 3s 4ms/step - loss: 0.0293 - accuracy: 0.9989 - val_loss: 0.0326 - val_accuracy: 1.0000 - lr: 0.0250\n",
            "Epoch 8/20\n",
            "796/796 [==============================] - 3s 4ms/step - loss: 0.0300 - accuracy: 0.9986 - val_loss: 0.0347 - val_accuracy: 0.9985 - lr: 0.0250\n",
            "Epoch 9/20\n",
            "796/796 [==============================] - 3s 4ms/step - loss: 0.0281 - accuracy: 1.0000 - val_loss: 0.0326 - val_accuracy: 1.0000 - lr: 0.0250\n",
            "Epoch 10/20\n",
            "796/796 [==============================] - 3s 4ms/step - loss: 0.0281 - accuracy: 1.0000 - val_loss: 0.0326 - val_accuracy: 1.0000 - lr: 0.0125\n",
            "Epoch 11/20\n",
            "796/796 [==============================] - 3s 4ms/step - loss: 0.0281 - accuracy: 0.9998 - val_loss: 0.0326 - val_accuracy: 1.0000 - lr: 0.0125\n",
            "Epoch 12/20\n",
            "796/796 [==============================] - 3s 4ms/step - loss: 0.0281 - accuracy: 0.9998 - val_loss: 0.0326 - val_accuracy: 1.0000 - lr: 0.0125\n",
            "Epoch 13/20\n",
            "796/796 [==============================] - 3s 4ms/step - loss: 0.0281 - accuracy: 1.0000 - val_loss: 0.0326 - val_accuracy: 1.0000 - lr: 0.0063\n",
            "Epoch 14/20\n",
            "796/796 [==============================] - 3s 4ms/step - loss: 0.0281 - accuracy: 1.0000 - val_loss: 0.0326 - val_accuracy: 1.0000 - lr: 0.0063\n",
            "Epoch 15/20\n",
            "796/796 [==============================] - 3s 4ms/step - loss: 0.0281 - accuracy: 1.0000 - val_loss: 0.0326 - val_accuracy: 1.0000 - lr: 0.0063\n",
            "Epoch 16/20\n",
            "796/796 [==============================] - 3s 4ms/step - loss: 0.0281 - accuracy: 1.0000 - val_loss: 0.0326 - val_accuracy: 1.0000 - lr: 0.0031\n",
            "Epoch 17/20\n",
            "796/796 [==============================] - 3s 4ms/step - loss: 0.0281 - accuracy: 1.0000 - val_loss: 0.0326 - val_accuracy: 1.0000 - lr: 0.0031\n",
            "Epoch 18/20\n",
            "796/796 [==============================] - 3s 4ms/step - loss: 0.0281 - accuracy: 1.0000 - val_loss: 0.0326 - val_accuracy: 1.0000 - lr: 0.0031\n",
            "Epoch 19/20\n",
            "796/796 [==============================] - 3s 4ms/step - loss: 0.0281 - accuracy: 1.0000 - val_loss: 0.0326 - val_accuracy: 1.0000 - lr: 0.0016\n",
            "Epoch 20/20\n",
            "796/796 [==============================] - 3s 4ms/step - loss: 0.0281 - accuracy: 1.0000 - val_loss: 0.0326 - val_accuracy: 1.0000 - lr: 0.0016\n"
          ],
          "name": "stdout"
        }
      ]
    },
    {
      "cell_type": "code",
      "metadata": {
        "id": "CfmSW1bzuLj5",
        "colab_type": "code",
        "colab": {
          "base_uri": "https://localhost:8080/",
          "height": 577
        },
        "outputId": "c9323e95-e20f-433a-b812-dca378f0429b"
      },
      "source": [
        "val_acc = history.history['val_accuracy']\n",
        "val_loss = history.history['val_loss']\n",
        "loss = history.history['loss']\n",
        "acc = history.history['accuracy']\n",
        "\n",
        "epoch_num = range(1,len(val_acc)+1)\n",
        "\n",
        "plt.plot(epoch_num,val_acc,'r-.',label=\"Validation Accuracy\")\n",
        "plt.plot(epoch_num,acc,'k-',label='Training Accuracy')\n",
        "plt.title(\"Training Vs Validation Accuracy\")\n",
        "plt.xlabel(\"Epochs\")\n",
        "plt.ylabel(\"Accuracy\")\n",
        "plt.legend()\n",
        "plt.tight_layout()\n",
        "plt.figure()\n",
        "\n",
        "plt.plot(epoch_num,val_loss,'r:',label=\"Validation Loss\")\n",
        "plt.plot(epoch_num,loss,'k--',label='Training Loss')\n",
        "plt.title(\"Training Vs Validation Loss\")\n",
        "plt.xlabel(\"Epochs\")\n",
        "plt.ylabel(\"Loss\")\n",
        "plt.legend()\n",
        "plt.tight_layout()\n",
        "\n",
        "plt.show()"
      ],
      "execution_count": 40,
      "outputs": [
        {
          "output_type": "display_data",
          "data": {
            "image/png": "[encoded data removed]",
            "text/plain": [
              "<Figure size 432x288 with 1 Axes>"
            ]
          },
          "metadata": {
            "tags": [],
            "needs_background": "light"
          }
        },
        {
          "output_type": "display_data",
          "data": {
            "image/png": "[encoded data removed]",
            "text/plain": [
              "<Figure size 432x288 with 1 Axes>"
            ]
          },
          "metadata": {
            "tags": [],
            "needs_background": "light"
          }
        }
      ]
    },
    {
      "cell_type": "code",
      "metadata": {
        "id": "c1ax48PJoQjs",
        "colab_type": "code",
        "colab": {
          "base_uri": "https://localhost:8080/",
          "height": 54
        },
        "outputId": "c81b8042-001b-4923-82a9-98951cf80945"
      },
      "source": [
        "result = model.evaluate(test_images, test_label_cat)\n",
        "result"
      ],
      "execution_count": 41,
      "outputs": [
        {
          "output_type": "stream",
          "text": [
            "225/225 [==============================] - 1s 4ms/step - loss: 0.1595 - accuracy: 0.9746\n"
          ],
          "name": "stdout"
        },
        {
          "output_type": "execute_result",
          "data": {
            "text/plain": [
              "[0.15951906144618988, 0.9746235609054565]"
            ]
          },
          "metadata": {
            "tags": []
          },
          "execution_count": 41
        }
      ]
    },
    {
      "cell_type": "code",
      "metadata": {
        "id": "N8liQ0_Aod0l",
        "colab_type": "code",
        "colab": {
          "base_uri": "https://localhost:8080/",
          "height": 954
        },
        "outputId": "834a85f0-99aa-43c8-f87b-bce9ed2b1eec"
      },
      "source": [
        "from sklearn.metrics import confusion_matrix,classification_report\n",
        "\n",
        "Y_pred = model.predict(test_images)\n",
        "y_pred = np.argmax(Y_pred, axis=1)\n",
        "print(\"Confusion Matrix\")\n",
        "print(confusion_matrix(test_labels,y_pred))"
      ],
      "execution_count": 43,
      "outputs": [
        {
          "output_type": "stream",
          "text": [
            "Confusion Matrix\n",
            "[[331   0   0   0   0   0   0   0   0   0   0   0   0   0   0   0   0   0\n",
            "    0   0   0   0   0   0   0]\n",
            " [  0 432   0   0   0   0   0   0   0   0   0   0   0   0   0   0   0   0\n",
            "    0   0   0   0   0   0   0]\n",
            " [  0   0 310   0   0   0   0   0   0   0   0   0   0   0   0   0   0   0\n",
            "    0   0   0   0   0   0   0]\n",
            " [  0   0   0 245   0   0   0   0   0   0   0   0   0   0   0   0   0   0\n",
            "    0   0   0   0   0   0   0]\n",
            " [  0   0   0   0 498   0   0   0   0   0   0   0   0   0   0   0   0   0\n",
            "    0   0   0   0   0   0   0]\n",
            " [  0   0   0   0   0 247   0   0   0   0   0   0   0   0   0   0   0   0\n",
            "    0   0   0   0   0   0   0]\n",
            " [  0   0   0   0   0   0 327  20   0   1   0   0   0   0   0   0   0   0\n",
            "    0   0   0   0   0   0   0]\n",
            " [  0   0   0   0   0   0  20 416   0   0   0   0   0   0   0   0   0   0\n",
            "    0   0   0   0   0   0   0]\n",
            " [  0   0   0   0   0   0   0   0 286   0   0   0   0   0   0   0   0   1\n",
            "    1   0   0   0   0   0   0]\n",
            " [  0   0   0   0   0   0   0   0   0   0   0   0   0   0   0   0   0   0\n",
            "    0   0   0   0   0   0   0]\n",
            " [  0   0   0   0   0   0   0   0   0   0 323   0   0   0   0   0   0   8\n",
            "    0   0   0   0   0   0   0]\n",
            " [  0   0   0   0   0   0   0   0   0   0   0 209   0   0   0   0   0   0\n",
            "    0   0   0   0   0   0   0]\n",
            " [  0   0   0   0   0   0   0   0   0   0   0   0 394   0   0   0   0   0\n",
            "    0   0   0   0   0   0   0]\n",
            " [  0   0   5   0   0   0   0   0   0   0   0   0   1 285   0   0   0   0\n",
            "    0   0   0   0   0   0   0]\n",
            " [  0   0   0   0   0   0   0   0   0   0   0   0   0   4 239   0   0   0\n",
            "    3   0   0   0   0   0   0]\n",
            " [  0   0   0   0   0   0   0   0   0   0   0   0   0   0   0 347   0   0\n",
            "    0   0   0   0   0   0   0]\n",
            " [  0   0   0   0   0   0   0   0   0   0   0   0   0   0   0   0 164   0\n",
            "    0   0   0   0   0   0   0]\n",
            " [  0   0   0   0   0   0   0   0   0   0   0   0   0   0   0   0   0 126\n",
            "    0  18   0   0   0   0   0]\n",
            " [  0   0   0   0  21   0   0   0   0   0   0   0   0   0   0   0   0   0\n",
            "  225   0   0   0   0   0   0]\n",
            " [  0   0   0   0   0   0   0   0   0   0   0   0   0   0   0   0   0   0\n",
            "    0 227   0   0   0  21   0]\n",
            " [  0   0   0   1   0   0   0   0   0   0   1   0   0   0   0   0   0   0\n",
            "    0   0 264   0   0   0   0]\n",
            " [  0   0   0   0   0   0   0   0   0   0   1   0   0   0   0   0   0   0\n",
            "    0   0   0 335  10   0   0]\n",
            " [  0   0   0   0   0   0   0   0   0   0   0   0   0   0   0   0   0   0\n",
            "    0   0   0   0 206   0   0]\n",
            " [  0   0   0   0   0   0   0   0   0   0   0   0   0   0   0   0   0  18\n",
            "    0  21   0   0   0 228   0]\n",
            " [  0   0   0   0   0   0   0   0   0   0   6   0   0   0   0   0   0   0\n",
            "    0   0   0   0   0   0 326]]\n"
          ],
          "name": "stdout"
        }
      ]
    },
    {
      "cell_type": "code",
      "metadata": {
        "id": "la546mjjpDpA",
        "colab_type": "code",
        "colab": {
          "base_uri": "https://localhost:8080/",
          "height": 680
        },
        "outputId": "ae41168c-41db-47fa-9192-93f91cbe9eda"
      },
      "source": [
        "print(\"Classification Report\")\n",
        "print(classification_report(test_labels,y_pred))"
      ],
      "execution_count": 44,
      "outputs": [
        {
          "output_type": "stream",
          "text": [
            "Classification Report\n",
            "              precision    recall  f1-score   support\n",
            "\n",
            "           0       1.00      1.00      1.00       331\n",
            "           1       1.00      1.00      1.00       432\n",
            "           2       0.98      1.00      0.99       310\n",
            "           3       1.00      1.00      1.00       245\n",
            "           4       0.96      1.00      0.98       498\n",
            "           5       1.00      1.00      1.00       247\n",
            "           6       0.94      0.94      0.94       348\n",
            "           7       0.95      0.95      0.95       436\n",
            "           8       1.00      0.99      1.00       288\n",
            "           9       0.00      0.00      0.00         0\n",
            "          10       0.98      0.98      0.98       331\n",
            "          11       1.00      1.00      1.00       209\n",
            "          12       1.00      1.00      1.00       394\n",
            "          13       0.99      0.98      0.98       291\n",
            "          14       1.00      0.97      0.99       246\n",
            "          15       1.00      1.00      1.00       347\n",
            "          16       1.00      1.00      1.00       164\n",
            "          17       0.82      0.88      0.85       144\n",
            "          18       0.98      0.91      0.95       246\n",
            "          19       0.85      0.92      0.88       248\n",
            "          20       1.00      0.99      1.00       266\n",
            "          21       1.00      0.97      0.98       346\n",
            "          22       0.95      1.00      0.98       206\n",
            "          23       0.92      0.85      0.88       267\n",
            "          24       1.00      0.98      0.99       332\n",
            "\n",
            "    accuracy                           0.97      7172\n",
            "   macro avg       0.93      0.93      0.93      7172\n",
            "weighted avg       0.98      0.97      0.97      7172\n",
            "\n"
          ],
          "name": "stdout"
        },
        {
          "output_type": "stream",
          "text": [
            "/usr/local/lib/python3.6/dist-packages/sklearn/metrics/_classification.py:1272: UndefinedMetricWarning: Recall and F-score are ill-defined and being set to 0.0 in labels with no true samples. Use `zero_division` parameter to control this behavior.\n",
            "  _warn_prf(average, modifier, msg_start, len(result))\n"
          ],
          "name": "stderr"
        }
      ]
    },
    {
      "cell_type": "code",
      "metadata": {
        "id": "xGl1m9s6pcvU",
        "colab_type": "code",
        "colab": {}
      },
      "source": [
        ""
      ],
      "execution_count": null,
      "outputs": []
    }
  ]
}